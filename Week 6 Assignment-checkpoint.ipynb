{
 "cells": [
  {
   "cell_type": "code",
   "execution_count": 1,
   "id": "7f8bf984-395d-4660-8e97-286a72e151d2",
   "metadata": {},
   "outputs": [
    {
     "name": "stdout",
     "output_type": "stream",
     "text": [
      "Current date '2024-07-08' has been written to 'today.txt'.\n"
     ]
    }
   ],
   "source": [
    "from datetime import date\n",
    "\n",
    "# Get the current date\n",
    "current_date = date.today()\n",
    "\n",
    "# Convert date to string format\n",
    "date_string = current_date.strftime(\"%Y-%m-%d\")\n",
    "\n",
    "# Write the date string to the file\n",
    "file_path = \"today.txt\"\n",
    "with open(file_path, 'w') as file:\n",
    "    file.write(date_string)\n",
    "\n",
    "print(f\"Current date '{date_string}' has been written to '{file_path}'.\")\n"
   ]
  },
  {
   "cell_type": "code",
   "execution_count": 2,
   "id": "3441db26-13c5-4a73-9502-51c211125430",
   "metadata": {},
   "outputs": [
    {
     "name": "stdout",
     "output_type": "stream",
     "text": [
      "Contents of today.txt: 2024-07-08\n"
     ]
    }
   ],
   "source": [
    "# Define the file path\n",
    "file_path = \"today.txt\"\n",
    "\n",
    "# Read the contents of the file into a string\n",
    "try:\n",
    "    with open(file_path, 'r') as file:\n",
    "        today_string = file.read().strip()\n",
    "        print(f\"Contents of {file_path}: {today_string}\")\n",
    "except FileNotFoundError:\n",
    "    print(f\"Error: {file_path} not found. Please ensure the file exists.\")\n"
   ]
  },
  {
   "cell_type": "code",
   "execution_count": 3,
   "id": "b372cd9b-b1f2-4667-be74-1917be856e3c",
   "metadata": {},
   "outputs": [
    {
     "name": "stdout",
     "output_type": "stream",
     "text": [
      "Parsed date: 2024-07-08 00:00:00\n",
      "Year: 2024\n",
      "Month: 7\n",
      "Day: 8\n"
     ]
    }
   ],
   "source": [
    "from datetime import datetime\n",
    "\n",
    "# Assuming today_string is in the format YYYY-MM-DD\n",
    "today_string = \"2024-07-08\"  # Replace this with your actual string or use the one read from the file\n",
    "\n",
    "try:\n",
    "    # Parse the date string into a datetime object\n",
    "    parsed_date = datetime.strptime(today_string, '%Y-%m-%d')\n",
    "\n",
    "    # Print the parsed date\n",
    "    print(f\"Parsed date: {parsed_date}\")\n",
    "\n",
    "    # You can also access individual components of the date if needed\n",
    "    print(f\"Year: {parsed_date.year}\")\n",
    "    print(f\"Month: {parsed_date.month}\")\n",
    "    print(f\"Day: {parsed_date.day}\")\n",
    "\n",
    "except ValueError as e:\n",
    "    print(f\"Error parsing date: {e}\")\n"
   ]
  },
  {
   "cell_type": "code",
   "execution_count": 6,
   "id": "73ec647d-06d7-470b-a89e-e1718eac0ba2",
   "metadata": {},
   "outputs": [],
   "source": [
    "import multiprocessing\n",
    "import time\n",
    "import random\n",
    "from datetime import datetime\n",
    "\n",
    "def print_current_time():\n",
    "    # Generate a random sleep time between 0 and 1 seconds\n",
    "    sleep_time = random.random()\n",
    "    time.sleep(sleep_time)\n",
    "    \n",
    "    # Print the current time when the process starts\n",
    "    current_time = datetime.now().strftime(\"%H:%M:%S.%f\")[:-3]  # Format for HH:MM:SS.milliseconds\n",
    "    print(f\"Current time: {current_time}\")\n",
    "    \n",
    "\n",
    "if __name__ == \"__main__\":\n",
    "    # Create three separate processes\n",
    "    processes = []\n",
    "    for _ in range(3):\n",
    "        process = multiprocessing.Process(target=print_current_time)\n",
    "        processes.append(process)\n",
    "        \n",
    "    # Start all processes\n",
    "    for process in processes:\n",
    "        process.start()\n",
    "        \n",
    "    # Wait for all processes to complete\n",
    "    for process in processes:\n",
    "        process.join()\n"
   ]
  },
  {
   "cell_type": "code",
   "execution_count": null,
   "id": "461a57f0-f3dc-44c6-a2c0-c6dbb68e499e",
   "metadata": {},
   "outputs": [],
   "source": []
  }
 ],
 "metadata": {
  "kernelspec": {
   "display_name": "Python 3 (ipykernel)",
   "language": "python",
   "name": "python3"
  },
  "language_info": {
   "codemirror_mode": {
    "name": "ipython",
    "version": 3
   },
   "file_extension": ".py",
   "mimetype": "text/x-python",
   "name": "python",
   "nbconvert_exporter": "python",
   "pygments_lexer": "ipython3",
   "version": "3.11.7"
  }
 },
 "nbformat": 4,
 "nbformat_minor": 5
}
